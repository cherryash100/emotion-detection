{
  "cells": [
    {
      "cell_type": "code",
      "execution_count": null,
      "metadata": {
        "id": "tFJotANTkBZB"
      },
      "outputs": [],
      "source": [
        "!pip install opencv-python-headless deepface\n",
        "\n",
        "# Import necessary libraries\n",
        "import cv2\n",
        "import numpy as np\n",
        "from google.colab.patches import cv2_imshow\n",
        "from IPython.display import display, Javascript\n",
        "from google.colab.output import eval_js\n",
        "from base64 import b64decode\n",
        "\n",
        "# Function to capture an image from the webcam\n",
        "def capture_image():\n",
        "    js = Javascript('''\n",
        "        async function takePhoto() {\n",
        "            const div = document.createElement('div');\n",
        "            const video = document.createElement('video');\n",
        "            const canvas = document.createElement('canvas');\n",
        "            const button = document.createElement('button');\n",
        "            div.appendChild(video);\n",
        "            div.appendChild(button);\n",
        "            document.body.appendChild(div);\n",
        "\n",
        "            const stream = await navigator.mediaDevices.getUserMedia({video: true});\n",
        "            video.srcObject = stream;\n",
        "            await new Promise((resolve) => video.onloadedmetadata = resolve);\n",
        "            video.play();\n",
        "\n",
        "            // Resize video to match canvas dimensions\n",
        "            const videoWidth = video.videoWidth;\n",
        "            const videoHeight = video.videoHeight;\n",
        "            canvas.width = videoWidth;\n",
        "            canvas.height = videoHeight;\n",
        "\n",
        "            // Capture frame on button click\n",
        "            button.textContent = 'Capture';\n",
        "            await new Promise((resolve) => {\n",
        "                button.onclick = () => {\n",
        "                    canvas.getContext('2d').drawImage(video, 0, 0, videoWidth, videoHeight);\n",
        "                    stream.getTracks().forEach(track => track.stop());\n",
        "                    resolve();\n",
        "                };\n",
        "            });\n",
        "\n",
        "            const dataUrl = canvas.toDataURL('image/jpeg', 0.8);\n",
        "            div.remove();\n",
        "            return dataUrl;\n",
        "        }\n",
        "    ''')\n",
        "    display(js)\n",
        "    data = eval_js('takePhoto()')\n",
        "    header, encoded = data.split(',', 1)\n",
        "    image_data = b64decode(encoded)\n",
        "    np_arr = np.frombuffer(image_data, dtype=np.uint8)\n",
        "    img = cv2.imdecode(np_arr, cv2.IMREAD_COLOR)\n",
        "    return img\n",
        "\n",
        "# Function to analyze emotion using DeepFace\n",
        "def analyze_emotion(img):\n",
        "    from deepface import DeepFace\n",
        "    result = DeepFace.analyze(img, actions=['emotion'], enforce_detection=False)\n",
        "    return result\n",
        "\n",
        "# Capture image from webcam\n",
        "image = capture_image()\n",
        "\n",
        "# Analyze emotion\n",
        "analysis = analyze_emotion(image)\n",
        "\n",
        "# Display the captured image and analysis\n",
        "cv2_imshow(image)\n",
        "print(\"Dominant Emotion:\", analysis[0]['dominant_emotion'])\n"
      ]
    }
  ],
  "metadata": {
    "colab": {
      "provenance": []
    },
    "kernelspec": {
      "display_name": "Python 3",
      "name": "python3"
    },
    "language_info": {
      "name": "python"
    }
  },
  "nbformat": 4,
  "nbformat_minor": 0
}